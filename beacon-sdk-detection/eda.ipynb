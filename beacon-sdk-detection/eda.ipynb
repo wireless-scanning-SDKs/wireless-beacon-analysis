{
 "cells": [
  {
   "cell_type": "code",
   "execution_count": 687,
   "metadata": {},
   "outputs": [],
   "source": [
    "import pandas as pd\n",
    "import json"
   ]
  },
  {
   "cell_type": "code",
   "execution_count": 688,
   "metadata": {},
   "outputs": [],
   "source": [
    "json_file = '/home/aniketh/devel/src/ble-beacon/AndroCFG/parsed_results_with_package_name_and_party_info_no_bt.json'\n",
    "data = json.load(open(json_file))\n",
    "df = pd.DataFrame(data)"
   ]
  },
  {
   "cell_type": "code",
   "execution_count": 689,
   "metadata": {},
   "outputs": [
    {
     "data": {
      "text/plain": [
       "7552"
      ]
     },
     "execution_count": 689,
     "metadata": {},
     "output_type": "execute_result"
    }
   ],
   "source": [
    "df[(df['pattern'] == 'shouldShowRequestPermissionRationale')].package_name.nunique()"
   ]
  },
  {
   "cell_type": "code",
   "execution_count": 691,
   "metadata": {},
   "outputs": [
    {
     "data": {
      "text/plain": [
       "2"
      ]
     },
     "execution_count": 691,
     "metadata": {},
     "output_type": "execute_result"
    }
   ],
   "source": [
    "df[(df['third_party'] == False) & (df['first_party'] == False) & (df['pattern'] == 'shouldShowRequestPermissionRationale')].apk.nunique()"
   ]
  },
  {
   "cell_type": "code",
   "execution_count": 690,
   "metadata": {},
   "outputs": [],
   "source": [
    "fp = df[(df['first_party'] == True) & (df['pattern'] == 'shouldShowRequestPermissionRationale')]"
   ]
  },
  {
   "cell_type": "code",
   "execution_count": 694,
   "metadata": {},
   "outputs": [
    {
     "data": {
      "text/plain": [
       "8856"
      ]
     },
     "execution_count": 694,
     "metadata": {},
     "output_type": "execute_result"
    }
   ],
   "source": [
    "df[(df['third_party'] == True) & (df['pattern'] == 'shouldShowRequestPermissionRationale')].package_name.nunique() + df[(df['first_party'] == True) & (df['pattern'] == 'shouldShowRequestPermissionRationale')].package_name.nunique()"
   ]
  },
  {
   "cell_type": "code",
   "execution_count": 692,
   "metadata": {},
   "outputs": [
    {
     "data": {
      "text/plain": [
       "1304"
      ]
     },
     "execution_count": 692,
     "metadata": {},
     "output_type": "execute_result"
    }
   ],
   "source": [
    "first_party_packages = set(df[(df['first_party'] == True) & (df['pattern'] == 'shouldShowRequestPermissionRationale')].package_name)\n",
    "third_party_packages = set(df[(df['third_party'] == True) & (df['pattern'] == 'shouldShowRequestPermissionRationale')].package_name)\n",
    "\n",
    "# Find overlapping package names\n",
    "overlapping_packages = first_party_packages & third_party_packages\n",
    "overlapping_count = len(overlapping_packages)\n",
    "overlapping_count"
   ]
  },
  {
   "cell_type": "code",
   "execution_count": 693,
   "metadata": {},
   "outputs": [
    {
     "data": {
      "text/html": [
       "<div>\n",
       "<style scoped>\n",
       "    .dataframe tbody tr th:only-of-type {\n",
       "        vertical-align: middle;\n",
       "    }\n",
       "\n",
       "    .dataframe tbody tr th {\n",
       "        vertical-align: top;\n",
       "    }\n",
       "\n",
       "    .dataframe thead th {\n",
       "        text-align: right;\n",
       "    }\n",
       "</style>\n",
       "<table border=\"1\" class=\"dataframe\">\n",
       "  <thead>\n",
       "    <tr style=\"text-align: right;\">\n",
       "      <th></th>\n",
       "      <th>apk</th>\n",
       "      <th>file</th>\n",
       "      <th>package_name</th>\n",
       "      <th>line_number</th>\n",
       "      <th>code</th>\n",
       "      <th>params</th>\n",
       "      <th>permission</th>\n",
       "      <th>pattern</th>\n",
       "      <th>third_party</th>\n",
       "      <th>first_party</th>\n",
       "      <th>bt_pkg</th>\n",
       "    </tr>\n",
       "  </thead>\n",
       "  <tbody>\n",
       "    <tr>\n",
       "      <th>0</th>\n",
       "      <td>089BBB8894D6310D229E08EB59B2D3B2103A4A80704C771BE7A29AAD901439D0.apk</td>\n",
       "      <td>fr/laposte/lapostemobile/features/payment/UpdateAddressActivity.java</td>\n",
       "      <td>fr.laposte.lapostemobile</td>\n",
       "      <td>2035</td>\n",
       "      <td>if (ActivityCompat.shouldShowRequestPermissionRationale(this, \"android.permission.ACCESS_FINE_LOCATION\")) {</td>\n",
       "      <td>[this, \"android.permission.ACCESS_FINE_LOCATION\"]</td>\n",
       "      <td>this</td>\n",
       "      <td>shouldShowRequestPermissionRationale</td>\n",
       "      <td>False</td>\n",
       "      <td>True</td>\n",
       "      <td>False</td>\n",
       "    </tr>\n",
       "    <tr>\n",
       "      <th>1</th>\n",
       "      <td>089BBB8894D6310D229E08EB59B2D3B2103A4A80704C771BE7A29AAD901439D0.apk</td>\n",
       "      <td>fr/laposte/lapostemobile/features/payment/UpdateAddressActivity.java</td>\n",
       "      <td>fr.laposte.lapostemobile</td>\n",
       "      <td>2035</td>\n",
       "      <td>if (ActivityCompat.shouldShowRequestPermissionRationale(this, \"android.permission.ACCESS_FINE_LOCATION\")) {</td>\n",
       "      <td>[this, \"android.permission.ACCESS_FINE_LOCATION\"]</td>\n",
       "      <td>\"android.permission.ACCESS_FINE_LOCATION\"</td>\n",
       "      <td>shouldShowRequestPermissionRationale</td>\n",
       "      <td>False</td>\n",
       "      <td>True</td>\n",
       "      <td>False</td>\n",
       "    </tr>\n",
       "    <tr>\n",
       "      <th>2</th>\n",
       "      <td>089BBB8894D6310D229E08EB59B2D3B2103A4A80704C771BE7A29AAD901439D0.apk</td>\n",
       "      <td>com/urbanairship/permission/PermissionsActivity.java</td>\n",
       "      <td>fr.laposte.lapostemobile</td>\n",
       "      <td>110</td>\n",
       "      <td>this.currentRequest = new PermissionRequest(stringExtra, ActivityCompat.shouldShowRequestPermissionRationale(this, stringExtra), System.currentTimeMillis(), resultReceiver);</td>\n",
       "      <td>[this, stringExtra]</td>\n",
       "      <td>this</td>\n",
       "      <td>shouldShowRequestPermissionRationale</td>\n",
       "      <td>True</td>\n",
       "      <td>False</td>\n",
       "      <td>False</td>\n",
       "    </tr>\n",
       "    <tr>\n",
       "      <th>3</th>\n",
       "      <td>089BBB8894D6310D229E08EB59B2D3B2103A4A80704C771BE7A29AAD901439D0.apk</td>\n",
       "      <td>com/urbanairship/permission/PermissionsActivity.java</td>\n",
       "      <td>fr.laposte.lapostemobile</td>\n",
       "      <td>110</td>\n",
       "      <td>this.currentRequest = new PermissionRequest(stringExtra, ActivityCompat.shouldShowRequestPermissionRationale(this, stringExtra), System.currentTimeMillis(), resultReceiver);</td>\n",
       "      <td>[this, stringExtra]</td>\n",
       "      <td>stringExtra</td>\n",
       "      <td>shouldShowRequestPermissionRationale</td>\n",
       "      <td>True</td>\n",
       "      <td>False</td>\n",
       "      <td>False</td>\n",
       "    </tr>\n",
       "    <tr>\n",
       "      <th>4</th>\n",
       "      <td>089BBB8894D6310D229E08EB59B2D3B2103A4A80704C771BE7A29AAD901439D0.apk</td>\n",
       "      <td>com/urbanairship/permission/PermissionsActivity.java</td>\n",
       "      <td>fr.laposte.lapostemobile</td>\n",
       "      <td>123</td>\n",
       "      <td>boolean shouldShowRequestPermissionRationale = ActivityCompat.shouldShowRequestPermissionRationale(this, permissionRequest.permission);</td>\n",
       "      <td>[this, permissionRequest.permission]</td>\n",
       "      <td>this</td>\n",
       "      <td>shouldShowRequestPermissionRationale</td>\n",
       "      <td>True</td>\n",
       "      <td>False</td>\n",
       "      <td>False</td>\n",
       "    </tr>\n",
       "    <tr>\n",
       "      <th>...</th>\n",
       "      <td>...</td>\n",
       "      <td>...</td>\n",
       "      <td>...</td>\n",
       "      <td>...</td>\n",
       "      <td>...</td>\n",
       "      <td>...</td>\n",
       "      <td>...</td>\n",
       "      <td>...</td>\n",
       "      <td>...</td>\n",
       "      <td>...</td>\n",
       "      <td>...</td>\n",
       "    </tr>\n",
       "    <tr>\n",
       "      <th>61981</th>\n",
       "      <td>046108691A68B0866F9E9F7F4B9E6DC61E8B1C29E549CF417F1FB406071DEBA9.apk</td>\n",
       "      <td>pub/devrel/easypermissions/helper/PermissionHelper.java</td>\n",
       "      <td>com.innovatise.luxfitness</td>\n",
       "      <td>72</td>\n",
       "      <td>return !shouldShowRequestPermissionRationale(str);</td>\n",
       "      <td>[str]</td>\n",
       "      <td>str</td>\n",
       "      <td>shouldShowRequestPermissionRationale</td>\n",
       "      <td>True</td>\n",
       "      <td>False</td>\n",
       "      <td>False</td>\n",
       "    </tr>\n",
       "    <tr>\n",
       "      <th>61982</th>\n",
       "      <td>046108691A68B0866F9E9F7F4B9E6DC61E8B1C29E549CF417F1FB406071DEBA9.apk</td>\n",
       "      <td>pub/devrel/easypermissions/helper/AppCompatActivityPermissionsHelper.java</td>\n",
       "      <td>com.innovatise.luxfitness</td>\n",
       "      <td>25</td>\n",
       "      <td>public boolean shouldShowRequestPermissionRationale(String str) {</td>\n",
       "      <td>[String str]</td>\n",
       "      <td>String str</td>\n",
       "      <td>shouldShowRequestPermissionRationale</td>\n",
       "      <td>True</td>\n",
       "      <td>False</td>\n",
       "      <td>False</td>\n",
       "    </tr>\n",
       "    <tr>\n",
       "      <th>61983</th>\n",
       "      <td>046108691A68B0866F9E9F7F4B9E6DC61E8B1C29E549CF417F1FB406071DEBA9.apk</td>\n",
       "      <td>pub/devrel/easypermissions/helper/AppCompatActivityPermissionsHelper.java</td>\n",
       "      <td>com.innovatise.luxfitness</td>\n",
       "      <td>26</td>\n",
       "      <td>return ActivityCompat.shouldShowRequestPermissionRationale(getHost(), str);</td>\n",
       "      <td>[getHost(]</td>\n",
       "      <td>getHost(</td>\n",
       "      <td>shouldShowRequestPermissionRationale</td>\n",
       "      <td>True</td>\n",
       "      <td>False</td>\n",
       "      <td>False</td>\n",
       "    </tr>\n",
       "    <tr>\n",
       "      <th>61984</th>\n",
       "      <td>046108691A68B0866F9E9F7F4B9E6DC61E8B1C29E549CF417F1FB406071DEBA9.apk</td>\n",
       "      <td>com/innovatise/qrcodescanner/BaseQRCodeScannerActivity.java</td>\n",
       "      <td>com.innovatise.luxfitness</td>\n",
       "      <td>83</td>\n",
       "      <td>if (ActivityCompat.shouldShowRequestPermissionRationale(this, \"android.permission.CAMERA\")) {</td>\n",
       "      <td>[this, \"android.permission.CAMERA\"]</td>\n",
       "      <td>this</td>\n",
       "      <td>shouldShowRequestPermissionRationale</td>\n",
       "      <td>False</td>\n",
       "      <td>True</td>\n",
       "      <td>False</td>\n",
       "    </tr>\n",
       "    <tr>\n",
       "      <th>61985</th>\n",
       "      <td>046108691A68B0866F9E9F7F4B9E6DC61E8B1C29E549CF417F1FB406071DEBA9.apk</td>\n",
       "      <td>com/innovatise/qrcodescanner/BaseQRCodeScannerActivity.java</td>\n",
       "      <td>com.innovatise.luxfitness</td>\n",
       "      <td>83</td>\n",
       "      <td>if (ActivityCompat.shouldShowRequestPermissionRationale(this, \"android.permission.CAMERA\")) {</td>\n",
       "      <td>[this, \"android.permission.CAMERA\"]</td>\n",
       "      <td>\"android.permission.CAMERA\"</td>\n",
       "      <td>shouldShowRequestPermissionRationale</td>\n",
       "      <td>False</td>\n",
       "      <td>True</td>\n",
       "      <td>False</td>\n",
       "    </tr>\n",
       "  </tbody>\n",
       "</table>\n",
       "<p>17939 rows × 11 columns</p>\n",
       "</div>"
      ],
      "text/plain": [
       "                                                                        apk  \\\n",
       "0      089BBB8894D6310D229E08EB59B2D3B2103A4A80704C771BE7A29AAD901439D0.apk   \n",
       "1      089BBB8894D6310D229E08EB59B2D3B2103A4A80704C771BE7A29AAD901439D0.apk   \n",
       "2      089BBB8894D6310D229E08EB59B2D3B2103A4A80704C771BE7A29AAD901439D0.apk   \n",
       "3      089BBB8894D6310D229E08EB59B2D3B2103A4A80704C771BE7A29AAD901439D0.apk   \n",
       "4      089BBB8894D6310D229E08EB59B2D3B2103A4A80704C771BE7A29AAD901439D0.apk   \n",
       "...                                                                     ...   \n",
       "61981  046108691A68B0866F9E9F7F4B9E6DC61E8B1C29E549CF417F1FB406071DEBA9.apk   \n",
       "61982  046108691A68B0866F9E9F7F4B9E6DC61E8B1C29E549CF417F1FB406071DEBA9.apk   \n",
       "61983  046108691A68B0866F9E9F7F4B9E6DC61E8B1C29E549CF417F1FB406071DEBA9.apk   \n",
       "61984  046108691A68B0866F9E9F7F4B9E6DC61E8B1C29E549CF417F1FB406071DEBA9.apk   \n",
       "61985  046108691A68B0866F9E9F7F4B9E6DC61E8B1C29E549CF417F1FB406071DEBA9.apk   \n",
       "\n",
       "                                                                            file  \\\n",
       "0           fr/laposte/lapostemobile/features/payment/UpdateAddressActivity.java   \n",
       "1           fr/laposte/lapostemobile/features/payment/UpdateAddressActivity.java   \n",
       "2                           com/urbanairship/permission/PermissionsActivity.java   \n",
       "3                           com/urbanairship/permission/PermissionsActivity.java   \n",
       "4                           com/urbanairship/permission/PermissionsActivity.java   \n",
       "...                                                                          ...   \n",
       "61981                    pub/devrel/easypermissions/helper/PermissionHelper.java   \n",
       "61982  pub/devrel/easypermissions/helper/AppCompatActivityPermissionsHelper.java   \n",
       "61983  pub/devrel/easypermissions/helper/AppCompatActivityPermissionsHelper.java   \n",
       "61984                com/innovatise/qrcodescanner/BaseQRCodeScannerActivity.java   \n",
       "61985                com/innovatise/qrcodescanner/BaseQRCodeScannerActivity.java   \n",
       "\n",
       "                    package_name  line_number  \\\n",
       "0       fr.laposte.lapostemobile         2035   \n",
       "1       fr.laposte.lapostemobile         2035   \n",
       "2       fr.laposte.lapostemobile          110   \n",
       "3       fr.laposte.lapostemobile          110   \n",
       "4       fr.laposte.lapostemobile          123   \n",
       "...                          ...          ...   \n",
       "61981  com.innovatise.luxfitness           72   \n",
       "61982  com.innovatise.luxfitness           25   \n",
       "61983  com.innovatise.luxfitness           26   \n",
       "61984  com.innovatise.luxfitness           83   \n",
       "61985  com.innovatise.luxfitness           83   \n",
       "\n",
       "                                                                                                                                                                                code  \\\n",
       "0                                                                        if (ActivityCompat.shouldShowRequestPermissionRationale(this, \"android.permission.ACCESS_FINE_LOCATION\")) {   \n",
       "1                                                                        if (ActivityCompat.shouldShowRequestPermissionRationale(this, \"android.permission.ACCESS_FINE_LOCATION\")) {   \n",
       "2      this.currentRequest = new PermissionRequest(stringExtra, ActivityCompat.shouldShowRequestPermissionRationale(this, stringExtra), System.currentTimeMillis(), resultReceiver);   \n",
       "3      this.currentRequest = new PermissionRequest(stringExtra, ActivityCompat.shouldShowRequestPermissionRationale(this, stringExtra), System.currentTimeMillis(), resultReceiver);   \n",
       "4                                            boolean shouldShowRequestPermissionRationale = ActivityCompat.shouldShowRequestPermissionRationale(this, permissionRequest.permission);   \n",
       "...                                                                                                                                                                              ...   \n",
       "61981                                                                                                                             return !shouldShowRequestPermissionRationale(str);   \n",
       "61982                                                                                                              public boolean shouldShowRequestPermissionRationale(String str) {   \n",
       "61983                                                                                                    return ActivityCompat.shouldShowRequestPermissionRationale(getHost(), str);   \n",
       "61984                                                                                  if (ActivityCompat.shouldShowRequestPermissionRationale(this, \"android.permission.CAMERA\")) {   \n",
       "61985                                                                                  if (ActivityCompat.shouldShowRequestPermissionRationale(this, \"android.permission.CAMERA\")) {   \n",
       "\n",
       "                                                  params  \\\n",
       "0      [this, \"android.permission.ACCESS_FINE_LOCATION\"]   \n",
       "1      [this, \"android.permission.ACCESS_FINE_LOCATION\"]   \n",
       "2                                    [this, stringExtra]   \n",
       "3                                    [this, stringExtra]   \n",
       "4                   [this, permissionRequest.permission]   \n",
       "...                                                  ...   \n",
       "61981                                              [str]   \n",
       "61982                                       [String str]   \n",
       "61983                                         [getHost(]   \n",
       "61984                [this, \"android.permission.CAMERA\"]   \n",
       "61985                [this, \"android.permission.CAMERA\"]   \n",
       "\n",
       "                                      permission  \\\n",
       "0                                           this   \n",
       "1      \"android.permission.ACCESS_FINE_LOCATION\"   \n",
       "2                                           this   \n",
       "3                                    stringExtra   \n",
       "4                                           this   \n",
       "...                                          ...   \n",
       "61981                                        str   \n",
       "61982                                 String str   \n",
       "61983                                   getHost(   \n",
       "61984                                       this   \n",
       "61985                \"android.permission.CAMERA\"   \n",
       "\n",
       "                                    pattern  third_party  first_party  bt_pkg  \n",
       "0      shouldShowRequestPermissionRationale        False         True   False  \n",
       "1      shouldShowRequestPermissionRationale        False         True   False  \n",
       "2      shouldShowRequestPermissionRationale         True        False   False  \n",
       "3      shouldShowRequestPermissionRationale         True        False   False  \n",
       "4      shouldShowRequestPermissionRationale         True        False   False  \n",
       "...                                     ...          ...          ...     ...  \n",
       "61981  shouldShowRequestPermissionRationale         True        False   False  \n",
       "61982  shouldShowRequestPermissionRationale         True        False   False  \n",
       "61983  shouldShowRequestPermissionRationale         True        False   False  \n",
       "61984  shouldShowRequestPermissionRationale        False         True   False  \n",
       "61985  shouldShowRequestPermissionRationale        False         True   False  \n",
       "\n",
       "[17939 rows x 11 columns]"
      ]
     },
     "execution_count": 693,
     "metadata": {},
     "output_type": "execute_result"
    }
   ],
   "source": [
    "overlapping_df = df[df['package_name'].isin(overlapping_packages)]\n",
    "overlapping_df"
   ]
  },
  {
   "cell_type": "code",
   "execution_count": null,
   "metadata": {},
   "outputs": [],
   "source": []
  },
  {
   "cell_type": "code",
   "execution_count": 695,
   "metadata": {},
   "outputs": [
    {
     "data": {
      "text/plain": [
       "1.623897353648757"
      ]
     },
     "execution_count": 695,
     "metadata": {},
     "output_type": "execute_result"
    }
   ],
   "source": [
    "fp[(fp['permission'].str.contains('BLUETOOTH', case=False)) | (fp['params'].str.contains('BLUETOOTH', case=False)) | (fp['code'].str.contains('BLUETOOTH', case=False))].apk.nunique() / 9976 * 100"
   ]
  },
  {
   "cell_type": "code",
   "execution_count": 696,
   "metadata": {},
   "outputs": [
    {
     "data": {
      "text/plain": [
       "32"
      ]
     },
     "execution_count": 696,
     "metadata": {},
     "output_type": "execute_result"
    }
   ],
   "source": [
    "fp[(fp['permission'].str.contains('BLUETOOTH_SCAN', case=False)) | (fp['params'].str.contains('BLUETOOTH_SCAN', case=False)) | (fp['code'].str.contains('BLUETOOTH_SCAN', case=False))].apk.nunique() "
   ]
  },
  {
   "cell_type": "code",
   "execution_count": 697,
   "metadata": {},
   "outputs": [
    {
     "data": {
      "text/plain": [
       "193"
      ]
     },
     "execution_count": 697,
     "metadata": {},
     "output_type": "execute_result"
    }
   ],
   "source": [
    "df[(df['permission'].str.contains('BLUETOOTH', case=False)) | (df['params'].str.contains('BLUETOOTH', case=False)) | (df['code'].str.contains('BLUETOOTH', case=False))].apk.nunique() "
   ]
  },
  {
   "cell_type": "code",
   "execution_count": 698,
   "metadata": {},
   "outputs": [],
   "source": [
    "tp = df[(df['third_party'] == True) & (df['pattern'] == 'shouldShowRequestPermissionRationale')]"
   ]
  },
  {
   "cell_type": "code",
   "execution_count": 699,
   "metadata": {},
   "outputs": [
    {
     "data": {
      "text/plain": [
       "6959"
      ]
     },
     "execution_count": 699,
     "metadata": {},
     "output_type": "execute_result"
    }
   ],
   "source": [
    "tp.apk.nunique()"
   ]
  },
  {
   "cell_type": "code",
   "execution_count": 700,
   "metadata": {},
   "outputs": [
    {
     "data": {
      "text/plain": [
       "220"
      ]
     },
     "execution_count": 700,
     "metadata": {},
     "output_type": "execute_result"
    }
   ],
   "source": [
    "tp[(tp['file'].str.contains('location')) | (tp['permission'].str.contains('location')) | (tp['params'].str.contains('location'))].apk.nunique() "
   ]
  },
  {
   "cell_type": "code",
   "execution_count": 701,
   "metadata": {},
   "outputs": [
    {
     "data": {
      "text/plain": [
       "33"
      ]
     },
     "execution_count": 701,
     "metadata": {},
     "output_type": "execute_result"
    }
   ],
   "source": [
    "tp[(tp['permission'].str.contains('BLUETOOTH', case=False)) | (tp['params'].str.contains('BLUETOOTH', case=False)) | (tp['code'].str.contains('BLUETOOTH', case=False))].apk.nunique() "
   ]
  },
  {
   "cell_type": "code",
   "execution_count": 702,
   "metadata": {},
   "outputs": [
    {
     "data": {
      "text/plain": [
       "18"
      ]
     },
     "execution_count": 702,
     "metadata": {},
     "output_type": "execute_result"
    }
   ],
   "source": [
    "tp[(tp['permission'].str.contains('BLUETOOTH_SCAN', case=False)) | (tp['params'].str.contains('BLUETOOTH_SCAN', case=False)) | (tp['code'].str.contains('BLUETOOTH_SCAN', case=False))].apk.nunique() "
   ]
  },
  {
   "cell_type": "code",
   "execution_count": 703,
   "metadata": {},
   "outputs": [
    {
     "data": {
      "text/plain": [
       "1760"
      ]
     },
     "execution_count": 703,
     "metadata": {},
     "output_type": "execute_result"
    }
   ],
   "source": [
    "tp[(tp['permission'].str.contains('location', case=False)) | (tp['params'].str.contains('location', case=False)) | (tp['code'].str.contains('location', case=False))].apk.nunique() "
   ]
  },
  {
   "cell_type": "code",
   "execution_count": 704,
   "metadata": {},
   "outputs": [
    {
     "data": {
      "text/plain": [
       "1064"
      ]
     },
     "execution_count": 704,
     "metadata": {},
     "output_type": "execute_result"
    }
   ],
   "source": [
    "tp[(tp['permission'].str.contains('FINE_LOCATION', case=False)) | (tp['params'].str.contains('FINE_LOCATION', case=False)) | (tp['code'].str.contains('FINE_LOCATION', case=False))].apk.nunique() "
   ]
  },
  {
   "cell_type": "code",
   "execution_count": 705,
   "metadata": {},
   "outputs": [
    {
     "data": {
      "text/plain": [
       "551"
      ]
     },
     "execution_count": 705,
     "metadata": {},
     "output_type": "execute_result"
    }
   ],
   "source": [
    "tp[(tp['permission'].str.contains('COARSE_LOCATION', case=False)) | (tp['params'].str.contains('COARSE_LOCATION', case=False)) | (tp['code'].str.contains('COARSE_LOCATION', case=False))].apk.nunique() "
   ]
  },
  {
   "cell_type": "code",
   "execution_count": 706,
   "metadata": {},
   "outputs": [
    {
     "data": {
      "text/plain": [
       "160"
      ]
     },
     "execution_count": 706,
     "metadata": {},
     "output_type": "execute_result"
    }
   ],
   "source": [
    "tp[(tp['permission'].str.contains('BACKGROUND_LOCATION', case=False)) | (tp['params'].str.contains('BACKGROUND_LOCATION', case=False)) | (tp['code'].str.contains('BACKGROUND_LOCATION', case=False))].apk.nunique() "
   ]
  },
  {
   "cell_type": "code",
   "execution_count": null,
   "metadata": {},
   "outputs": [],
   "source": [
    "import pandas as pd\n",
    "import json\n",
    "\n",
    "# Load the JSON data and create DataFrame\n",
    "json_file = '/home/aniketh/devel/src/ble-beacon/AndroCFG/parsed_results_with_package_name_and_party_info_no_bt.json'\n",
    "\n",
    "# Convert lists in 'params' column to strings\n",
    "df['params'] = df['params'].apply(lambda x: ', '.join(x) if isinstance(x, list) else x)\n",
    "\n",
    "# Function to calculate unique APK counts based on conditions\n",
    "def calculate_unique_apks(dataframe, keywords):\n",
    "    mask = dataframe['permission'].str.contains(keywords, case=False, na=False) | \\\n",
    "           dataframe['params'].str.contains(keywords, case=False, na=False) | \\\n",
    "           dataframe['code'].str.contains(keywords, case=False, na=False)\n",
    "    return dataframe[mask].apk.nunique()\n",
    "\n",
    "# Define keywords for different categories\n",
    "keywords_bluetooth = \"BLUETOOTH\"\n",
    "keywords_bluetooth_scan = \"BLUETOOTH_SCAN\"\n",
    "keywords_location = \"location\"\n",
    "keywords_fine_location = \"FINE_LOCATION\"\n",
    "keywords_coarse_location = \"COARSE_LOCATION\"\n",
    "keywords_background_location = \"BACKGROUND_LOCATION\"\n",
    "\n",
    "# Calculations for first party\n",
    "fp = df[(df['first_party'] == True) & (df['pattern'] == 'shouldShowRequestPermissionRationale')]\n",
    "fp_total_unique_apks = df[df['first_party'] == True].apk.nunique()\n",
    "fp_unique_apks = fp.apk.nunique()\n",
    "\n",
    "fp_bluetooth_unique_apks = calculate_unique_apks(fp, keywords_bluetooth)\n",
    "fp_bluetooth_scan_unique_apks = calculate_unique_apks(fp, keywords_bluetooth_scan)\n",
    "fp_location_unique_apks = calculate_unique_apks(fp, keywords_location)\n",
    "fp_fine_location_unique_apks = calculate_unique_apks(fp, keywords_fine_location)\n",
    "fp_coarse_location_unique_apks = calculate_unique_apks(fp, keywords_coarse_location)\n",
    "fp_background_location_unique_apks = calculate_unique_apks(fp, keywords_background_location)\n",
    "\n",
    "# Calculations for third party\n",
    "tp = df[(df['third_party'] == True) & (df['pattern'] == 'shouldShowRequestPermissionRationale')]\n",
    "tp_total_unique_apks = df[df['third_party'] == True].apk.nunique()\n",
    "tp_unique_apks = tp.apk.nunique()\n",
    "\n",
    "tp_bluetooth_unique_apks = calculate_unique_apks(tp, keywords_bluetooth)\n",
    "tp_bluetooth_scan_unique_apks = calculate_unique_apks(tp, keywords_bluetooth_scan)\n",
    "tp_location_unique_apks = calculate_unique_apks(tp, keywords_location)\n",
    "tp_fine_location_unique_apks = calculate_unique_apks(tp, keywords_fine_location)\n",
    "tp_coarse_location_unique_apks = calculate_unique_apks(tp, keywords_coarse_location)\n",
    "tp_background_location_unique_apks = calculate_unique_apks(tp, keywords_background_location)\n",
    "\n",
    "# Identify overlapping package names\n",
    "first_party_packages = set(fp.package_name)\n",
    "third_party_packages = set(tp.package_name)\n",
    "overlapping_packages = first_party_packages & third_party_packages\n",
    "overlapping_count = len(overlapping_packages)\n",
    "\n",
    "# Helper function to format count and percentage\n",
    "def format_count_percentage(count, total):\n",
    "    return f\"{count} ({count/total*100:.2f}%)\" if total > 0 else f\"{count} (0%)\"\n",
    "\n",
    "def format_total_count_to_percentage(count, total):\n",
    "    return f\"{count} ({count/total*100:.2f}%)\"\n",
    "\n",
    "# Creating final table\n",
    "result_table = pd.DataFrame({\n",
    "    \"Category\": [\"BLUETOOTH\", \"BLUETOOTH_SCAN\", \"LOCATION\", \"FINE_LOCATION\", \"COARSE_LOCATION\", \"BACKGROUND_LOCATION\", \"TOTAL\"],\n",
    "    \"First Party\": [format_count_percentage(fp_bluetooth_unique_apks, fp_total_unique_apks), \n",
    "                    # format_count_percentage(fp_bluetooth_scan_unique_apks, fp_total_unique_apks),\n",
    "                    # format_count_percentage(fp_location_unique_apks, fp_total_unique_apks),\n",
    "                    # format_count_percentage(fp_fine_location_unique_apks, fp_total_unique_apks),\n",
    "                    # format_count_percentage(fp_coarse_location_unique_apks, fp_total_unique_apks),\n",
    "                    # format_count_percentage(fp_background_location_unique_apks, fp_total_unique_apks),\n",
    "                    format_total_count_to_percentage(fp_unique_apks, 9976)],\n",
    "    \"Third Party\": [format_count_percentage(tp_bluetooth_unique_apks, tp_total_unique_apks),\n",
    "                    # format_count_percentage(tp_bluetooth_scan_unique_apks, tp_total_unique_apks),\n",
    "                    # format_count_percentage(tp_location_unique_apks, tp_total_unique_apks),\n",
    "                    # format_count_percentage(tp_fine_location_unique_apks, tp_total_unique_apks),\n",
    "                    # format_count_percentage(tp_coarse_location_unique_apks, tp_total_unique_apks),\n",
    "                    # format_count_percentage(tp_background_location_unique_apks, tp_total_unique_apks),\n",
    "                    format_total_count_to_percentage(tp_unique_apks, 9976)],\n",
    "    \"Overlapping\": [format_count_percentage(calculate_unique_apks(df[df['package_name'].isin(overlapping_packages)], keywords_bluetooth), overlapping_count),\n",
    "                    # format_count_percentage(calculate_unique_apks(df[df['package_name'].isin(overlapping_packages)], keywords_bluetooth_scan), overlapping_count),\n",
    "                    # format_count_percentage(calculate_unique_apks(df[df['package_name'].isin(overlapping_packages)], keywords_location), overlapping_count),\n",
    "                    # format_count_percentage(calculate_unique_apks(df[df['package_name'].isin(overlapping_packages)], keywords_fine_location), overlapping_count),\n",
    "                    # format_count_percentage(calculate_unique_apks(df[df['package_name'].isin(overlapping_packages)], keywords_coarse_location), overlapping_count),\n",
    "                    # format_count_percentage(calculate_unique_apks(df[df['package_name'].isin(overlapping_packages)], keywords_background_location), overlapping_count),\n",
    "                    format_total_count_to_percentage(overlapping_count, 9976)]\n",
    "})\n",
    "\n",
    "result_table.applymap(lambda x: f\"{{x}}\" if isinstance(x, float) else x).to_latex('rationale.tex', index=False, escape=False)\n"
   ]
  },
  {
   "cell_type": "code",
   "execution_count": 708,
   "metadata": {},
   "outputs": [
    {
     "data": {
      "text/html": [
       "<div>\n",
       "<style scoped>\n",
       "    .dataframe tbody tr th:only-of-type {\n",
       "        vertical-align: middle;\n",
       "    }\n",
       "\n",
       "    .dataframe tbody tr th {\n",
       "        vertical-align: top;\n",
       "    }\n",
       "\n",
       "    .dataframe thead th {\n",
       "        text-align: right;\n",
       "    }\n",
       "</style>\n",
       "<table border=\"1\" class=\"dataframe\">\n",
       "  <thead>\n",
       "    <tr style=\"text-align: right;\">\n",
       "      <th></th>\n",
       "      <th>Category</th>\n",
       "      <th>First Party</th>\n",
       "      <th>Third Party</th>\n",
       "      <th>Overlapping</th>\n",
       "    </tr>\n",
       "  </thead>\n",
       "  <tbody>\n",
       "    <tr>\n",
       "      <th>0</th>\n",
       "      <td>BLUETOOTH</td>\n",
       "      <td>162 (8.51%)</td>\n",
       "      <td>33 (0.47%)</td>\n",
       "      <td>140 (10.74%)</td>\n",
       "    </tr>\n",
       "    <tr>\n",
       "      <th>1</th>\n",
       "      <td>BLUETOOTH_SCAN</td>\n",
       "      <td>32 (1.68%)</td>\n",
       "      <td>18 (0.26%)</td>\n",
       "      <td>17 (1.30%)</td>\n",
       "    </tr>\n",
       "    <tr>\n",
       "      <th>2</th>\n",
       "      <td>LOCATION</td>\n",
       "      <td>786 (41.30%)</td>\n",
       "      <td>1760 (25.29%)</td>\n",
       "      <td>736 (56.44%)</td>\n",
       "    </tr>\n",
       "    <tr>\n",
       "      <th>3</th>\n",
       "      <td>FINE_LOCATION</td>\n",
       "      <td>555 (29.16%)</td>\n",
       "      <td>1064 (15.29%)</td>\n",
       "      <td>486 (37.27%)</td>\n",
       "    </tr>\n",
       "    <tr>\n",
       "      <th>4</th>\n",
       "      <td>COARSE_LOCATION</td>\n",
       "      <td>117 (6.15%)</td>\n",
       "      <td>551 (7.92%)</td>\n",
       "      <td>181 (13.88%)</td>\n",
       "    </tr>\n",
       "    <tr>\n",
       "      <th>5</th>\n",
       "      <td>BACKGROUND_LOCATION</td>\n",
       "      <td>130 (6.83%)</td>\n",
       "      <td>160 (2.30%)</td>\n",
       "      <td>108 (8.28%)</td>\n",
       "    </tr>\n",
       "    <tr>\n",
       "      <th>6</th>\n",
       "      <td>TOTAL</td>\n",
       "      <td>1903 (19.08%)</td>\n",
       "      <td>6959 (69.76%)</td>\n",
       "      <td>1304 (13.07%)</td>\n",
       "    </tr>\n",
       "  </tbody>\n",
       "</table>\n",
       "</div>"
      ],
      "text/plain": [
       "              Category    First Party    Third Party    Overlapping\n",
       "0            BLUETOOTH    162 (8.51%)     33 (0.47%)   140 (10.74%)\n",
       "1       BLUETOOTH_SCAN     32 (1.68%)     18 (0.26%)     17 (1.30%)\n",
       "2             LOCATION   786 (41.30%)  1760 (25.29%)   736 (56.44%)\n",
       "3        FINE_LOCATION   555 (29.16%)  1064 (15.29%)   486 (37.27%)\n",
       "4      COARSE_LOCATION    117 (6.15%)    551 (7.92%)   181 (13.88%)\n",
       "5  BACKGROUND_LOCATION    130 (6.83%)    160 (2.30%)    108 (8.28%)\n",
       "6                TOTAL  1903 (19.08%)  6959 (69.76%)  1304 (13.07%)"
      ]
     },
     "execution_count": 708,
     "metadata": {},
     "output_type": "execute_result"
    }
   ],
   "source": [
    "result_table"
   ]
  },
  {
   "cell_type": "code",
   "execution_count": 680,
   "metadata": {},
   "outputs": [
    {
     "ename": "KeyError",
     "evalue": "'permission'",
     "output_type": "error",
     "traceback": [
      "\u001b[0;31m---------------------------------------------------------------------------\u001b[0m",
      "\u001b[0;31mKeyError\u001b[0m                                  Traceback (most recent call last)",
      "\u001b[0;32m~/anaconda3/lib/python3.9/site-packages/pandas/core/indexes/base.py\u001b[0m in \u001b[0;36mget_loc\u001b[0;34m(self, key, method, tolerance)\u001b[0m\n\u001b[1;32m   3360\u001b[0m             \u001b[0;32mtry\u001b[0m\u001b[0;34m:\u001b[0m\u001b[0;34m\u001b[0m\u001b[0;34m\u001b[0m\u001b[0m\n\u001b[0;32m-> 3361\u001b[0;31m                 \u001b[0;32mreturn\u001b[0m \u001b[0mself\u001b[0m\u001b[0;34m.\u001b[0m\u001b[0m_engine\u001b[0m\u001b[0;34m.\u001b[0m\u001b[0mget_loc\u001b[0m\u001b[0;34m(\u001b[0m\u001b[0mcasted_key\u001b[0m\u001b[0;34m)\u001b[0m\u001b[0;34m\u001b[0m\u001b[0;34m\u001b[0m\u001b[0m\n\u001b[0m\u001b[1;32m   3362\u001b[0m             \u001b[0;32mexcept\u001b[0m \u001b[0mKeyError\u001b[0m \u001b[0;32mas\u001b[0m \u001b[0merr\u001b[0m\u001b[0;34m:\u001b[0m\u001b[0;34m\u001b[0m\u001b[0;34m\u001b[0m\u001b[0m\n",
      "\u001b[0;32m~/anaconda3/lib/python3.9/site-packages/pandas/_libs/index.pyx\u001b[0m in \u001b[0;36mpandas._libs.index.IndexEngine.get_loc\u001b[0;34m()\u001b[0m\n",
      "\u001b[0;32m~/anaconda3/lib/python3.9/site-packages/pandas/_libs/index.pyx\u001b[0m in \u001b[0;36mpandas._libs.index.IndexEngine.get_loc\u001b[0;34m()\u001b[0m\n",
      "\u001b[0;32mpandas/_libs/hashtable_class_helper.pxi\u001b[0m in \u001b[0;36mpandas._libs.hashtable.PyObjectHashTable.get_item\u001b[0;34m()\u001b[0m\n",
      "\u001b[0;32mpandas/_libs/hashtable_class_helper.pxi\u001b[0m in \u001b[0;36mpandas._libs.hashtable.PyObjectHashTable.get_item\u001b[0;34m()\u001b[0m\n",
      "\u001b[0;31mKeyError\u001b[0m: 'permission'",
      "\nThe above exception was the direct cause of the following exception:\n",
      "\u001b[0;31mKeyError\u001b[0m                                  Traceback (most recent call last)",
      "\u001b[0;32m/tmp/ipykernel_62422/367303953.py\u001b[0m in \u001b[0;36m<module>\u001b[0;34m\u001b[0m\n\u001b[1;32m     31\u001b[0m                     \u001b[0mformat_count_percentage_subset\u001b[0m\u001b[0;34m(\u001b[0m\u001b[0mtp_background_location_unique_apks\u001b[0m\u001b[0;34m,\u001b[0m \u001b[0;34m\"BACKGROUND_LOCATION\"\u001b[0m\u001b[0;34m)\u001b[0m\u001b[0;34m,\u001b[0m\u001b[0;34m\u001b[0m\u001b[0;34m\u001b[0m\u001b[0m\n\u001b[1;32m     32\u001b[0m                     format_total_count_to_percentage(tp_unique_apks, 9976)],\n\u001b[0;32m---> 33\u001b[0;31m     \"Overlapping\": [format_count_percentage_subset(calculate_unique_apks(df[df['package_name'].isin(overlapping_packages)], keywords_bluetooth), \"BLUETOOTH\"),\n\u001b[0m\u001b[1;32m     34\u001b[0m                     \u001b[0mformat_count_percentage_subset\u001b[0m\u001b[0;34m(\u001b[0m\u001b[0mcalculate_unique_apks\u001b[0m\u001b[0;34m(\u001b[0m\u001b[0mdf\u001b[0m\u001b[0;34m[\u001b[0m\u001b[0mdf\u001b[0m\u001b[0;34m[\u001b[0m\u001b[0;34m'package_name'\u001b[0m\u001b[0;34m]\u001b[0m\u001b[0;34m.\u001b[0m\u001b[0misin\u001b[0m\u001b[0;34m(\u001b[0m\u001b[0moverlapping_packages\u001b[0m\u001b[0;34m)\u001b[0m\u001b[0;34m]\u001b[0m\u001b[0;34m,\u001b[0m \u001b[0mkeywords_bluetooth_scan\u001b[0m\u001b[0;34m)\u001b[0m\u001b[0;34m,\u001b[0m \u001b[0;34m\"BLUETOOTH_SCAN\"\u001b[0m\u001b[0;34m)\u001b[0m\u001b[0;34m,\u001b[0m\u001b[0;34m\u001b[0m\u001b[0;34m\u001b[0m\u001b[0m\n\u001b[1;32m     35\u001b[0m                     \u001b[0mformat_count_percentage_subset\u001b[0m\u001b[0;34m(\u001b[0m\u001b[0mcalculate_unique_apks\u001b[0m\u001b[0;34m(\u001b[0m\u001b[0mdf\u001b[0m\u001b[0;34m[\u001b[0m\u001b[0mdf\u001b[0m\u001b[0;34m[\u001b[0m\u001b[0;34m'package_name'\u001b[0m\u001b[0;34m]\u001b[0m\u001b[0;34m.\u001b[0m\u001b[0misin\u001b[0m\u001b[0;34m(\u001b[0m\u001b[0moverlapping_packages\u001b[0m\u001b[0;34m)\u001b[0m\u001b[0;34m]\u001b[0m\u001b[0;34m,\u001b[0m \u001b[0mkeywords_location\u001b[0m\u001b[0;34m)\u001b[0m\u001b[0;34m,\u001b[0m \u001b[0;34m\"LOCATION\"\u001b[0m\u001b[0;34m)\u001b[0m\u001b[0;34m,\u001b[0m\u001b[0;34m\u001b[0m\u001b[0;34m\u001b[0m\u001b[0m\n",
      "\u001b[0;32m/tmp/ipykernel_62422/745158320.py\u001b[0m in \u001b[0;36mcalculate_unique_apks\u001b[0;34m(dataframe, keywords)\u001b[0m\n\u001b[1;32m     10\u001b[0m \u001b[0;31m# Function to calculate unique APK counts based on conditions\u001b[0m\u001b[0;34m\u001b[0m\u001b[0;34m\u001b[0m\u001b[0m\n\u001b[1;32m     11\u001b[0m \u001b[0;32mdef\u001b[0m \u001b[0mcalculate_unique_apks\u001b[0m\u001b[0;34m(\u001b[0m\u001b[0mdataframe\u001b[0m\u001b[0;34m,\u001b[0m \u001b[0mkeywords\u001b[0m\u001b[0;34m)\u001b[0m\u001b[0;34m:\u001b[0m\u001b[0;34m\u001b[0m\u001b[0;34m\u001b[0m\u001b[0m\n\u001b[0;32m---> 12\u001b[0;31m     \u001b[0mmask\u001b[0m \u001b[0;34m=\u001b[0m \u001b[0mdataframe\u001b[0m\u001b[0;34m[\u001b[0m\u001b[0;34m'permission'\u001b[0m\u001b[0;34m]\u001b[0m\u001b[0;34m.\u001b[0m\u001b[0mstr\u001b[0m\u001b[0;34m.\u001b[0m\u001b[0mcontains\u001b[0m\u001b[0;34m(\u001b[0m\u001b[0mkeywords\u001b[0m\u001b[0;34m,\u001b[0m \u001b[0mcase\u001b[0m\u001b[0;34m=\u001b[0m\u001b[0;32mFalse\u001b[0m\u001b[0;34m,\u001b[0m \u001b[0mna\u001b[0m\u001b[0;34m=\u001b[0m\u001b[0;32mFalse\u001b[0m\u001b[0;34m)\u001b[0m \u001b[0;34m|\u001b[0m\u001b[0;31m \u001b[0m\u001b[0;31m\\\u001b[0m\u001b[0;34m\u001b[0m\u001b[0;34m\u001b[0m\u001b[0m\n\u001b[0m\u001b[1;32m     13\u001b[0m            \u001b[0mdataframe\u001b[0m\u001b[0;34m[\u001b[0m\u001b[0;34m'params'\u001b[0m\u001b[0;34m]\u001b[0m\u001b[0;34m.\u001b[0m\u001b[0mstr\u001b[0m\u001b[0;34m.\u001b[0m\u001b[0mcontains\u001b[0m\u001b[0;34m(\u001b[0m\u001b[0mkeywords\u001b[0m\u001b[0;34m,\u001b[0m \u001b[0mcase\u001b[0m\u001b[0;34m=\u001b[0m\u001b[0;32mFalse\u001b[0m\u001b[0;34m,\u001b[0m \u001b[0mna\u001b[0m\u001b[0;34m=\u001b[0m\u001b[0;32mFalse\u001b[0m\u001b[0;34m)\u001b[0m \u001b[0;34m|\u001b[0m\u001b[0;31m \u001b[0m\u001b[0;31m\\\u001b[0m\u001b[0;34m\u001b[0m\u001b[0;34m\u001b[0m\u001b[0m\n\u001b[1;32m     14\u001b[0m            \u001b[0mdataframe\u001b[0m\u001b[0;34m[\u001b[0m\u001b[0;34m'code'\u001b[0m\u001b[0;34m]\u001b[0m\u001b[0;34m.\u001b[0m\u001b[0mstr\u001b[0m\u001b[0;34m.\u001b[0m\u001b[0mcontains\u001b[0m\u001b[0;34m(\u001b[0m\u001b[0mkeywords\u001b[0m\u001b[0;34m,\u001b[0m \u001b[0mcase\u001b[0m\u001b[0;34m=\u001b[0m\u001b[0;32mFalse\u001b[0m\u001b[0;34m,\u001b[0m \u001b[0mna\u001b[0m\u001b[0;34m=\u001b[0m\u001b[0;32mFalse\u001b[0m\u001b[0;34m)\u001b[0m\u001b[0;34m\u001b[0m\u001b[0;34m\u001b[0m\u001b[0m\n",
      "\u001b[0;32m~/anaconda3/lib/python3.9/site-packages/pandas/core/frame.py\u001b[0m in \u001b[0;36m__getitem__\u001b[0;34m(self, key)\u001b[0m\n\u001b[1;32m   3456\u001b[0m             \u001b[0;32mif\u001b[0m \u001b[0mself\u001b[0m\u001b[0;34m.\u001b[0m\u001b[0mcolumns\u001b[0m\u001b[0;34m.\u001b[0m\u001b[0mnlevels\u001b[0m \u001b[0;34m>\u001b[0m \u001b[0;36m1\u001b[0m\u001b[0;34m:\u001b[0m\u001b[0;34m\u001b[0m\u001b[0;34m\u001b[0m\u001b[0m\n\u001b[1;32m   3457\u001b[0m                 \u001b[0;32mreturn\u001b[0m \u001b[0mself\u001b[0m\u001b[0;34m.\u001b[0m\u001b[0m_getitem_multilevel\u001b[0m\u001b[0;34m(\u001b[0m\u001b[0mkey\u001b[0m\u001b[0;34m)\u001b[0m\u001b[0;34m\u001b[0m\u001b[0;34m\u001b[0m\u001b[0m\n\u001b[0;32m-> 3458\u001b[0;31m             \u001b[0mindexer\u001b[0m \u001b[0;34m=\u001b[0m \u001b[0mself\u001b[0m\u001b[0;34m.\u001b[0m\u001b[0mcolumns\u001b[0m\u001b[0;34m.\u001b[0m\u001b[0mget_loc\u001b[0m\u001b[0;34m(\u001b[0m\u001b[0mkey\u001b[0m\u001b[0;34m)\u001b[0m\u001b[0;34m\u001b[0m\u001b[0;34m\u001b[0m\u001b[0m\n\u001b[0m\u001b[1;32m   3459\u001b[0m             \u001b[0;32mif\u001b[0m \u001b[0mis_integer\u001b[0m\u001b[0;34m(\u001b[0m\u001b[0mindexer\u001b[0m\u001b[0;34m)\u001b[0m\u001b[0;34m:\u001b[0m\u001b[0;34m\u001b[0m\u001b[0;34m\u001b[0m\u001b[0m\n\u001b[1;32m   3460\u001b[0m                 \u001b[0mindexer\u001b[0m \u001b[0;34m=\u001b[0m \u001b[0;34m[\u001b[0m\u001b[0mindexer\u001b[0m\u001b[0;34m]\u001b[0m\u001b[0;34m\u001b[0m\u001b[0;34m\u001b[0m\u001b[0m\n",
      "\u001b[0;32m~/anaconda3/lib/python3.9/site-packages/pandas/core/indexes/base.py\u001b[0m in \u001b[0;36mget_loc\u001b[0;34m(self, key, method, tolerance)\u001b[0m\n\u001b[1;32m   3361\u001b[0m                 \u001b[0;32mreturn\u001b[0m \u001b[0mself\u001b[0m\u001b[0;34m.\u001b[0m\u001b[0m_engine\u001b[0m\u001b[0;34m.\u001b[0m\u001b[0mget_loc\u001b[0m\u001b[0;34m(\u001b[0m\u001b[0mcasted_key\u001b[0m\u001b[0;34m)\u001b[0m\u001b[0;34m\u001b[0m\u001b[0;34m\u001b[0m\u001b[0m\n\u001b[1;32m   3362\u001b[0m             \u001b[0;32mexcept\u001b[0m \u001b[0mKeyError\u001b[0m \u001b[0;32mas\u001b[0m \u001b[0merr\u001b[0m\u001b[0;34m:\u001b[0m\u001b[0;34m\u001b[0m\u001b[0;34m\u001b[0m\u001b[0m\n\u001b[0;32m-> 3363\u001b[0;31m                 \u001b[0;32mraise\u001b[0m \u001b[0mKeyError\u001b[0m\u001b[0;34m(\u001b[0m\u001b[0mkey\u001b[0m\u001b[0;34m)\u001b[0m \u001b[0;32mfrom\u001b[0m \u001b[0merr\u001b[0m\u001b[0;34m\u001b[0m\u001b[0;34m\u001b[0m\u001b[0m\n\u001b[0m\u001b[1;32m   3364\u001b[0m \u001b[0;34m\u001b[0m\u001b[0m\n\u001b[1;32m   3365\u001b[0m         \u001b[0;32mif\u001b[0m \u001b[0mis_scalar\u001b[0m\u001b[0;34m(\u001b[0m\u001b[0mkey\u001b[0m\u001b[0;34m)\u001b[0m \u001b[0;32mand\u001b[0m \u001b[0misna\u001b[0m\u001b[0;34m(\u001b[0m\u001b[0mkey\u001b[0m\u001b[0;34m)\u001b[0m \u001b[0;32mand\u001b[0m \u001b[0;32mnot\u001b[0m \u001b[0mself\u001b[0m\u001b[0;34m.\u001b[0m\u001b[0mhasnans\u001b[0m\u001b[0;34m:\u001b[0m\u001b[0;34m\u001b[0m\u001b[0;34m\u001b[0m\u001b[0m\n",
      "\u001b[0;31mKeyError\u001b[0m: 'permission'"
     ]
    }
   ],
   "source": [
    "# Totals for each permission (provided as fixed values)\n",
    "permission_totals = {\n",
    "    \"BLUETOOTH\": 6168,\n",
    "    \"BLUETOOTH_SCAN\": 1446,\n",
    "    \"LOCATION\": 8183,\n",
    "    \"FINE_LOCATION\": 7814,\n",
    "    \"COARSE_LOCATION\": 7707,\n",
    "    \"BACKGROUND_LOCATION\": 2014\n",
    "}\n",
    "\n",
    "# Updated helper function to use specific totals for division\n",
    "def format_count_percentage_subset(count, category):\n",
    "    total = permission_totals.get(category, 0)\n",
    "    return f\"{count} ({count/total*100:.2f}%)\" if total > 0 else f\"{count} (0%)\"\n",
    "\n",
    "# Creating final table\n",
    "result_table = pd.DataFrame({\n",
    "    \"Category\": [\"BLUETOOTH\", \"BLUETOOTH_SCAN\", \"LOCATION\", \"FINE_LOCATION\", \"COARSE_LOCATION\", \"BACKGROUND_LOCATION\", \"TOTAL\"],\n",
    "    \"First Party\": [format_count_percentage_subset(fp_bluetooth_unique_apks, \"BLUETOOTH\"), \n",
    "                    format_count_percentage_subset(fp_bluetooth_scan_unique_apks, \"BLUETOOTH_SCAN\"),\n",
    "                    format_count_percentage_subset(fp_location_unique_apks, \"LOCATION\"),\n",
    "                    format_count_percentage_subset(fp_fine_location_unique_apks, \"FINE_LOCATION\"),\n",
    "                    format_count_percentage_subset(fp_coarse_location_unique_apks, \"COARSE_LOCATION\"),\n",
    "                    format_count_percentage_subset(fp_background_location_unique_apks, \"BACKGROUND_LOCATION\"),\n",
    "                    format_total_count_to_percentage(fp_unique_apks, 9976)],\n",
    "    \"Third Party\": [format_count_percentage_subset(tp_bluetooth_unique_apks, \"BLUETOOTH\"),\n",
    "                    format_count_percentage_subset(tp_bluetooth_scan_unique_apks, \"BLUETOOTH_SCAN\"),\n",
    "                    format_count_percentage_subset(tp_location_unique_apks, \"LOCATION\"),\n",
    "                    format_count_percentage_subset(tp_fine_location_unique_apks, \"FINE_LOCATION\"),\n",
    "                    format_count_percentage_subset(tp_coarse_location_unique_apks, \"COARSE_LOCATION\"),\n",
    "                    format_count_percentage_subset(tp_background_location_unique_apks, \"BACKGROUND_LOCATION\"),\n",
    "                    format_total_count_to_percentage(tp_unique_apks, 9976)],\n",
    "    \"Overlapping\": [format_count_percentage_subset(calculate_unique_apks(df[df['package_name'].isin(overlapping_packages)], keywords_bluetooth), \"BLUETOOTH\"),\n",
    "                    format_count_percentage_subset(calculate_unique_apks(df[df['package_name'].isin(overlapping_packages)], keywords_bluetooth_scan), \"BLUETOOTH_SCAN\"),\n",
    "                    format_count_percentage_subset(calculate_unique_apks(df[df['package_name'].isin(overlapping_packages)], keywords_location), \"LOCATION\"),\n",
    "                    format_count_percentage_subset(calculate_unique_apks(df[df['package_name'].isin(overlapping_packages)], keywords_fine_location), \"FINE_LOCATION\"),\n",
    "                    format_count_percentage_subset(calculate_unique_apks(df[df['package_name'].isin(overlapping_packages)], keywords_coarse_location), \"COARSE_LOCATION\"),\n",
    "                    format_count_percentage_subset(calculate_unique_apks(df[df['package_name'].isin(overlapping_packages)], keywords_background_location), \"BACKGROUND_LOCATION\"),\n",
    "                    format_total_count_to_percentage(overlapping_count, 9976)]\n",
    "})\n",
    "\n",
    "# Save the result as a LaTeX table\n",
    "result_table\n"
   ]
  },
  {
   "cell_type": "code",
   "execution_count": 681,
   "metadata": {},
   "outputs": [],
   "source": [
    "# Updated function to calculate unique APK counts based on conditions\n",
    "def calculate_unique_apks(dataframe, keywords):\n",
    "    # Check for keywords in 'params' and 'code' columns only\n",
    "    mask = dataframe['params'].str.contains(keywords, case=False, na=False) | \\\n",
    "           dataframe['code'].str.contains(keywords, case=False, na=False)\n",
    "    return dataframe[mask].apk.nunique()\n",
    "\n",
    "# Use the updated function with the rest of your code\n",
    "fp_bluetooth_unique_apks = calculate_unique_apks(fp, keywords_bluetooth)\n",
    "fp_bluetooth_scan_unique_apks = calculate_unique_apks(fp, keywords_bluetooth_scan)\n",
    "fp_location_unique_apks = calculate_unique_apks(fp, keywords_location)\n",
    "fp_fine_location_unique_apks = calculate_unique_apks(fp, keywords_fine_location)\n",
    "fp_coarse_location_unique_apks = calculate_unique_apks(fp, keywords_coarse_location)\n",
    "fp_background_location_unique_apks = calculate_unique_apks(fp, keywords_background_location)\n",
    "\n",
    "# Similar adjustments for third-party calculations\n",
    "tp_bluetooth_unique_apks = calculate_unique_apks(tp, keywords_bluetooth)\n",
    "tp_bluetooth_scan_unique_apks = calculate_unique_apks(tp, keywords_bluetooth_scan)\n",
    "tp_location_unique_apks = calculate_unique_apks(tp, keywords_location)\n",
    "tp_fine_location_unique_apks = calculate_unique_apks(tp, keywords_fine_location)\n",
    "tp_coarse_location_unique_apks = calculate_unique_apks(tp, keywords_coarse_location)\n",
    "tp_background_location_unique_apks = calculate_unique_apks(tp, keywords_background_location)\n",
    "\n",
    "# Continue with the rest of the original code, ensuring you're searching in 'params' and 'code'.\n"
   ]
  },
  {
   "cell_type": "code",
   "execution_count": null,
   "metadata": {},
   "outputs": [],
   "source": []
  }
 ],
 "metadata": {
  "kernelspec": {
   "display_name": "Python 3 (ipykernel)",
   "language": "python",
   "name": "python3"
  },
  "language_info": {
   "codemirror_mode": {
    "name": "ipython",
    "version": 3
   },
   "file_extension": ".py",
   "mimetype": "text/x-python",
   "name": "python",
   "nbconvert_exporter": "python",
   "pygments_lexer": "ipython3",
   "version": "3.9.7"
  }
 },
 "nbformat": 4,
 "nbformat_minor": 2
}
